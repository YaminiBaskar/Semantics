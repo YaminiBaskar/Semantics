{
 "cells": [
  {
   "cell_type": "markdown",
   "id": "ce788e54",
   "metadata": {},
   "source": [
    "# Importing required Libraries."
   ]
  },
  {
   "cell_type": "code",
   "execution_count": 2,
   "id": "f180ea01",
   "metadata": {},
   "outputs": [],
   "source": [
    "import pandas as pd\n",
    "import seaborn as sns\n",
    "sns.set(color_codes=True)"
   ]
  },
  {
   "cell_type": "markdown",
   "id": "6b7ca1cb",
   "metadata": {},
   "source": [
    "# Load Data"
   ]
  },
  {
   "cell_type": "code",
   "execution_count": 5,
   "id": "ef47eb49",
   "metadata": {},
   "outputs": [],
   "source": [
    "pop=pd.read_csv('Pop.csv')"
   ]
  },
  {
   "cell_type": "markdown",
   "id": "5c84fb4c",
   "metadata": {},
   "source": [
    "# Data Preprocessing"
   ]
  },
  {
   "cell_type": "code",
   "execution_count": 5,
   "id": "f7007d5f",
   "metadata": {},
   "outputs": [
    {
     "data": {
      "text/html": [
       "<div>\n",
       "<style scoped>\n",
       "    .dataframe tbody tr th:only-of-type {\n",
       "        vertical-align: middle;\n",
       "    }\n",
       "\n",
       "    .dataframe tbody tr th {\n",
       "        vertical-align: top;\n",
       "    }\n",
       "\n",
       "    .dataframe thead th {\n",
       "        text-align: right;\n",
       "    }\n",
       "</style>\n",
       "<table border=\"1\" class=\"dataframe\">\n",
       "  <thead>\n",
       "    <tr style=\"text-align: right;\">\n",
       "      <th></th>\n",
       "      <th>Year</th>\n",
       "      <th>Population</th>\n",
       "      <th>GrowthRate</th>\n",
       "      <th>Growth</th>\n",
       "    </tr>\n",
       "  </thead>\n",
       "  <tbody>\n",
       "    <tr>\n",
       "      <th>0</th>\n",
       "      <td>1950</td>\n",
       "      <td>1491293</td>\n",
       "      <td>0.000000</td>\n",
       "      <td>0</td>\n",
       "    </tr>\n",
       "    <tr>\n",
       "      <th>1</th>\n",
       "      <td>1955</td>\n",
       "      <td>1705272</td>\n",
       "      <td>0.027179</td>\n",
       "      <td>213979</td>\n",
       "    </tr>\n",
       "    <tr>\n",
       "      <th>2</th>\n",
       "      <td>1960</td>\n",
       "      <td>1914797</td>\n",
       "      <td>0.023448</td>\n",
       "      <td>209525</td>\n",
       "    </tr>\n",
       "    <tr>\n",
       "      <th>3</th>\n",
       "      <td>1965</td>\n",
       "      <td>2394412</td>\n",
       "      <td>0.045720</td>\n",
       "      <td>479615</td>\n",
       "    </tr>\n",
       "    <tr>\n",
       "      <th>4</th>\n",
       "      <td>1970</td>\n",
       "      <td>3044204</td>\n",
       "      <td>0.049192</td>\n",
       "      <td>649792</td>\n",
       "    </tr>\n",
       "  </tbody>\n",
       "</table>\n",
       "</div>"
      ],
      "text/plain": [
       "   Year  Population  GrowthRate  Growth\n",
       "0  1950     1491293    0.000000       0\n",
       "1  1955     1705272    0.027179  213979\n",
       "2  1960     1914797    0.023448  209525\n",
       "3  1965     2394412    0.045720  479615\n",
       "4  1970     3044204    0.049192  649792"
      ]
     },
     "execution_count": 5,
     "metadata": {},
     "output_type": "execute_result"
    }
   ],
   "source": [
    "pop.head()"
   ]
  },
  {
   "cell_type": "code",
   "execution_count": 6,
   "id": "75729d39",
   "metadata": {},
   "outputs": [
    {
     "name": "stdout",
     "output_type": "stream",
     "text": [
      "<class 'pandas.core.frame.DataFrame'>\n",
      "RangeIndex: 19 entries, 0 to 18\n",
      "Data columns (total 4 columns):\n",
      " #   Column      Non-Null Count  Dtype  \n",
      "---  ------      --------------  -----  \n",
      " 0   Year        19 non-null     int64  \n",
      " 1   Population  19 non-null     int64  \n",
      " 2   GrowthRate  19 non-null     float64\n",
      " 3   Growth      19 non-null     int64  \n",
      "dtypes: float64(1), int64(3)\n",
      "memory usage: 736.0 bytes\n"
     ]
    }
   ],
   "source": [
    "pop.info()"
   ]
  },
  {
   "cell_type": "code",
   "execution_count": 7,
   "id": "ddc0e9af",
   "metadata": {
    "scrolled": true
   },
   "outputs": [
    {
     "data": {
      "text/html": [
       "<div>\n",
       "<style scoped>\n",
       "    .dataframe tbody tr th:only-of-type {\n",
       "        vertical-align: middle;\n",
       "    }\n",
       "\n",
       "    .dataframe tbody tr th {\n",
       "        vertical-align: top;\n",
       "    }\n",
       "\n",
       "    .dataframe thead th {\n",
       "        text-align: right;\n",
       "    }\n",
       "</style>\n",
       "<table border=\"1\" class=\"dataframe\">\n",
       "  <thead>\n",
       "    <tr style=\"text-align: right;\">\n",
       "      <th></th>\n",
       "      <th>Year</th>\n",
       "      <th>Population</th>\n",
       "      <th>GrowthRate</th>\n",
       "      <th>Growth</th>\n",
       "    </tr>\n",
       "  </thead>\n",
       "  <tbody>\n",
       "    <tr>\n",
       "      <th>0</th>\n",
       "      <td>1950</td>\n",
       "      <td>1491293</td>\n",
       "      <td>0.000000</td>\n",
       "      <td>0</td>\n",
       "    </tr>\n",
       "    <tr>\n",
       "      <th>1</th>\n",
       "      <td>1955</td>\n",
       "      <td>1705272</td>\n",
       "      <td>0.027179</td>\n",
       "      <td>213979</td>\n",
       "    </tr>\n",
       "    <tr>\n",
       "      <th>2</th>\n",
       "      <td>1960</td>\n",
       "      <td>1914797</td>\n",
       "      <td>0.023448</td>\n",
       "      <td>209525</td>\n",
       "    </tr>\n",
       "    <tr>\n",
       "      <th>3</th>\n",
       "      <td>1965</td>\n",
       "      <td>2394412</td>\n",
       "      <td>0.045720</td>\n",
       "      <td>479615</td>\n",
       "    </tr>\n",
       "    <tr>\n",
       "      <th>4</th>\n",
       "      <td>1970</td>\n",
       "      <td>3044204</td>\n",
       "      <td>0.049192</td>\n",
       "      <td>649792</td>\n",
       "    </tr>\n",
       "    <tr>\n",
       "      <th>5</th>\n",
       "      <td>1975</td>\n",
       "      <td>3593728</td>\n",
       "      <td>0.033747</td>\n",
       "      <td>549524</td>\n",
       "    </tr>\n",
       "    <tr>\n",
       "      <th>6</th>\n",
       "      <td>1980</td>\n",
       "      <td>4187412</td>\n",
       "      <td>0.031051</td>\n",
       "      <td>593684</td>\n",
       "    </tr>\n",
       "    <tr>\n",
       "      <th>7</th>\n",
       "      <td>1985</td>\n",
       "      <td>4735899</td>\n",
       "      <td>0.024923</td>\n",
       "      <td>548487</td>\n",
       "    </tr>\n",
       "    <tr>\n",
       "      <th>8</th>\n",
       "      <td>1990</td>\n",
       "      <td>5332057</td>\n",
       "      <td>0.023996</td>\n",
       "      <td>596158</td>\n",
       "    </tr>\n",
       "    <tr>\n",
       "      <th>9</th>\n",
       "      <td>1995</td>\n",
       "      <td>5934398</td>\n",
       "      <td>0.021636</td>\n",
       "      <td>602341</td>\n",
       "    </tr>\n",
       "    <tr>\n",
       "      <th>10</th>\n",
       "      <td>2000</td>\n",
       "      <td>6593279</td>\n",
       "      <td>0.021280</td>\n",
       "      <td>658881</td>\n",
       "    </tr>\n",
       "    <tr>\n",
       "      <th>11</th>\n",
       "      <td>2005</td>\n",
       "      <td>7476986</td>\n",
       "      <td>0.025475</td>\n",
       "      <td>883707</td>\n",
       "    </tr>\n",
       "    <tr>\n",
       "      <th>12</th>\n",
       "      <td>2010</td>\n",
       "      <td>8506193</td>\n",
       "      <td>0.026128</td>\n",
       "      <td>1029207</td>\n",
       "    </tr>\n",
       "    <tr>\n",
       "      <th>13</th>\n",
       "      <td>2015</td>\n",
       "      <td>9677072</td>\n",
       "      <td>0.026128</td>\n",
       "      <td>1170879</td>\n",
       "    </tr>\n",
       "    <tr>\n",
       "      <th>14</th>\n",
       "      <td>2019</td>\n",
       "      <td>10711243</td>\n",
       "      <td>0.025709</td>\n",
       "      <td>1034171</td>\n",
       "    </tr>\n",
       "    <tr>\n",
       "      <th>15</th>\n",
       "      <td>2020</td>\n",
       "      <td>10971108</td>\n",
       "      <td>0.024261</td>\n",
       "      <td>259865</td>\n",
       "    </tr>\n",
       "    <tr>\n",
       "      <th>16</th>\n",
       "      <td>2025</td>\n",
       "      <td>12336047</td>\n",
       "      <td>0.023729</td>\n",
       "      <td>1364939</td>\n",
       "    </tr>\n",
       "    <tr>\n",
       "      <th>17</th>\n",
       "      <td>2030</td>\n",
       "      <td>13814367</td>\n",
       "      <td>0.022895</td>\n",
       "      <td>1478320</td>\n",
       "    </tr>\n",
       "    <tr>\n",
       "      <th>18</th>\n",
       "      <td>2035</td>\n",
       "      <td>15375797</td>\n",
       "      <td>0.021648</td>\n",
       "      <td>1561430</td>\n",
       "    </tr>\n",
       "  </tbody>\n",
       "</table>\n",
       "</div>"
      ],
      "text/plain": [
       "    Year  Population  GrowthRate   Growth\n",
       "0   1950     1491293    0.000000        0\n",
       "1   1955     1705272    0.027179   213979\n",
       "2   1960     1914797    0.023448   209525\n",
       "3   1965     2394412    0.045720   479615\n",
       "4   1970     3044204    0.049192   649792\n",
       "5   1975     3593728    0.033747   549524\n",
       "6   1980     4187412    0.031051   593684\n",
       "7   1985     4735899    0.024923   548487\n",
       "8   1990     5332057    0.023996   596158\n",
       "9   1995     5934398    0.021636   602341\n",
       "10  2000     6593279    0.021280   658881\n",
       "11  2005     7476986    0.025475   883707\n",
       "12  2010     8506193    0.026128  1029207\n",
       "13  2015     9677072    0.026128  1170879\n",
       "14  2019    10711243    0.025709  1034171\n",
       "15  2020    10971108    0.024261   259865\n",
       "16  2025    12336047    0.023729  1364939\n",
       "17  2030    13814367    0.022895  1478320\n",
       "18  2035    15375797    0.021648  1561430"
      ]
     },
     "execution_count": 7,
     "metadata": {},
     "output_type": "execute_result"
    }
   ],
   "source": [
    "pop\n"
   ]
  },
  {
   "cell_type": "code",
   "execution_count": 11,
   "id": "e8577a94",
   "metadata": {},
   "outputs": [],
   "source": [
    "#Removing unwanted rows from the table\n",
    "pop.drop([18,17,16], inplace=True)"
   ]
  },
  {
   "cell_type": "code",
   "execution_count": 70,
   "id": "2e66a190",
   "metadata": {},
   "outputs": [
    {
     "data": {
      "text/html": [
       "<div>\n",
       "<style scoped>\n",
       "    .dataframe tbody tr th:only-of-type {\n",
       "        vertical-align: middle;\n",
       "    }\n",
       "\n",
       "    .dataframe tbody tr th {\n",
       "        vertical-align: top;\n",
       "    }\n",
       "\n",
       "    .dataframe thead th {\n",
       "        text-align: right;\n",
       "    }\n",
       "</style>\n",
       "<table border=\"1\" class=\"dataframe\">\n",
       "  <thead>\n",
       "    <tr style=\"text-align: right;\">\n",
       "      <th></th>\n",
       "      <th>Year</th>\n",
       "      <th>Population</th>\n",
       "      <th>PopulationRate</th>\n",
       "      <th>GrowthRate</th>\n",
       "      <th>Growth</th>\n",
       "    </tr>\n",
       "  </thead>\n",
       "  <tbody>\n",
       "    <tr>\n",
       "      <th>0</th>\n",
       "      <td>1950</td>\n",
       "      <td>1491293</td>\n",
       "      <td>1</td>\n",
       "      <td>0.000000</td>\n",
       "      <td>0</td>\n",
       "    </tr>\n",
       "    <tr>\n",
       "      <th>1</th>\n",
       "      <td>1955</td>\n",
       "      <td>1705272</td>\n",
       "      <td>1</td>\n",
       "      <td>0.027179</td>\n",
       "      <td>213979</td>\n",
       "    </tr>\n",
       "    <tr>\n",
       "      <th>2</th>\n",
       "      <td>1960</td>\n",
       "      <td>1914797</td>\n",
       "      <td>1</td>\n",
       "      <td>0.023448</td>\n",
       "      <td>209525</td>\n",
       "    </tr>\n",
       "    <tr>\n",
       "      <th>3</th>\n",
       "      <td>1965</td>\n",
       "      <td>2394412</td>\n",
       "      <td>1</td>\n",
       "      <td>0.045720</td>\n",
       "      <td>479615</td>\n",
       "    </tr>\n",
       "    <tr>\n",
       "      <th>4</th>\n",
       "      <td>1970</td>\n",
       "      <td>3044204</td>\n",
       "      <td>2</td>\n",
       "      <td>0.049192</td>\n",
       "      <td>649792</td>\n",
       "    </tr>\n",
       "    <tr>\n",
       "      <th>5</th>\n",
       "      <td>1975</td>\n",
       "      <td>3593728</td>\n",
       "      <td>2</td>\n",
       "      <td>0.033747</td>\n",
       "      <td>549524</td>\n",
       "    </tr>\n",
       "    <tr>\n",
       "      <th>6</th>\n",
       "      <td>1980</td>\n",
       "      <td>4187412</td>\n",
       "      <td>3</td>\n",
       "      <td>0.031051</td>\n",
       "      <td>593684</td>\n",
       "    </tr>\n",
       "    <tr>\n",
       "      <th>7</th>\n",
       "      <td>1985</td>\n",
       "      <td>4735899</td>\n",
       "      <td>3</td>\n",
       "      <td>0.024923</td>\n",
       "      <td>548487</td>\n",
       "    </tr>\n",
       "    <tr>\n",
       "      <th>8</th>\n",
       "      <td>1990</td>\n",
       "      <td>5332057</td>\n",
       "      <td>4</td>\n",
       "      <td>0.023996</td>\n",
       "      <td>596158</td>\n",
       "    </tr>\n",
       "    <tr>\n",
       "      <th>9</th>\n",
       "      <td>1995</td>\n",
       "      <td>5934398</td>\n",
       "      <td>4</td>\n",
       "      <td>0.021636</td>\n",
       "      <td>602341</td>\n",
       "    </tr>\n",
       "    <tr>\n",
       "      <th>10</th>\n",
       "      <td>2000</td>\n",
       "      <td>6593279</td>\n",
       "      <td>5</td>\n",
       "      <td>0.021280</td>\n",
       "      <td>658881</td>\n",
       "    </tr>\n",
       "    <tr>\n",
       "      <th>11</th>\n",
       "      <td>2005</td>\n",
       "      <td>7476986</td>\n",
       "      <td>5</td>\n",
       "      <td>0.025475</td>\n",
       "      <td>883707</td>\n",
       "    </tr>\n",
       "    <tr>\n",
       "      <th>12</th>\n",
       "      <td>2010</td>\n",
       "      <td>8506193</td>\n",
       "      <td>6</td>\n",
       "      <td>0.026128</td>\n",
       "      <td>1029207</td>\n",
       "    </tr>\n",
       "    <tr>\n",
       "      <th>13</th>\n",
       "      <td>2015</td>\n",
       "      <td>9677072</td>\n",
       "      <td>7</td>\n",
       "      <td>0.026128</td>\n",
       "      <td>1170879</td>\n",
       "    </tr>\n",
       "    <tr>\n",
       "      <th>14</th>\n",
       "      <td>2019</td>\n",
       "      <td>10711243</td>\n",
       "      <td>8</td>\n",
       "      <td>0.025709</td>\n",
       "      <td>1034171</td>\n",
       "    </tr>\n",
       "    <tr>\n",
       "      <th>15</th>\n",
       "      <td>2020</td>\n",
       "      <td>10971108</td>\n",
       "      <td>8</td>\n",
       "      <td>0.024261</td>\n",
       "      <td>259865</td>\n",
       "    </tr>\n",
       "  </tbody>\n",
       "</table>\n",
       "</div>"
      ],
      "text/plain": [
       "    Year  Population  PopulationRate  GrowthRate   Growth\n",
       "0   1950     1491293               1    0.000000        0\n",
       "1   1955     1705272               1    0.027179   213979\n",
       "2   1960     1914797               1    0.023448   209525\n",
       "3   1965     2394412               1    0.045720   479615\n",
       "4   1970     3044204               2    0.049192   649792\n",
       "5   1975     3593728               2    0.033747   549524\n",
       "6   1980     4187412               3    0.031051   593684\n",
       "7   1985     4735899               3    0.024923   548487\n",
       "8   1990     5332057               4    0.023996   596158\n",
       "9   1995     5934398               4    0.021636   602341\n",
       "10  2000     6593279               5    0.021280   658881\n",
       "11  2005     7476986               5    0.025475   883707\n",
       "12  2010     8506193               6    0.026128  1029207\n",
       "13  2015     9677072               7    0.026128  1170879\n",
       "14  2019    10711243               8    0.025709  1034171\n",
       "15  2020    10971108               8    0.024261   259865"
      ]
     },
     "execution_count": 70,
     "metadata": {},
     "output_type": "execute_result"
    }
   ],
   "source": [
    "pop"
   ]
  },
  {
   "cell_type": "markdown",
   "id": "8ed1bfb6",
   "metadata": {},
   "source": [
    "# Creating a new column 'PopulationRate'"
   ]
  },
  {
   "cell_type": "code",
   "execution_count": 7,
   "id": "0af6b3f8",
   "metadata": {},
   "outputs": [],
   "source": [
    "GTotal=pop.Growth.sum()"
   ]
  },
  {
   "cell_type": "code",
   "execution_count": 23,
   "id": "0f2a98aa",
   "metadata": {},
   "outputs": [],
   "source": [
    "Total=pop.Population.sum()\n"
   ]
  },
  {
   "cell_type": "code",
   "execution_count": 24,
   "id": "ce43b2df",
   "metadata": {},
   "outputs": [],
   "source": [
    "PopulationRate=(pop.Population/Total)*100"
   ]
  },
  {
   "cell_type": "code",
   "execution_count": 26,
   "id": "c5df3623",
   "metadata": {},
   "outputs": [],
   "source": [
    "R=PopulationRate"
   ]
  },
  {
   "cell_type": "code",
   "execution_count": 27,
   "id": "ee287841",
   "metadata": {},
   "outputs": [
    {
     "data": {
      "text/plain": [
       "0      1.689480\n",
       "1      1.931896\n",
       "2      2.169266\n",
       "3      2.712620\n",
       "4      3.448767\n",
       "5      4.071320\n",
       "6      4.743902\n",
       "7      5.365281\n",
       "8      6.040666\n",
       "9      6.723056\n",
       "10     7.469500\n",
       "11     8.470648\n",
       "12     9.636632\n",
       "13    10.963116\n",
       "14    12.134725\n",
       "15    12.429125\n",
       "Name: Population, dtype: float64"
      ]
     },
     "execution_count": 27,
     "metadata": {},
     "output_type": "execute_result"
    }
   ],
   "source": [
    "R"
   ]
  },
  {
   "cell_type": "code",
   "execution_count": 28,
   "id": "78619b92",
   "metadata": {},
   "outputs": [],
   "source": [
    "pop.insert(loc=2, column=\"PopulationRate\", value=[R])"
   ]
  },
  {
   "cell_type": "code",
   "execution_count": 75,
   "id": "5547d755",
   "metadata": {},
   "outputs": [
    {
     "data": {
      "text/html": [
       "<div>\n",
       "<style scoped>\n",
       "    .dataframe tbody tr th:only-of-type {\n",
       "        vertical-align: middle;\n",
       "    }\n",
       "\n",
       "    .dataframe tbody tr th {\n",
       "        vertical-align: top;\n",
       "    }\n",
       "\n",
       "    .dataframe thead th {\n",
       "        text-align: right;\n",
       "    }\n",
       "</style>\n",
       "<table border=\"1\" class=\"dataframe\">\n",
       "  <thead>\n",
       "    <tr style=\"text-align: right;\">\n",
       "      <th></th>\n",
       "      <th>Year</th>\n",
       "      <th>Population</th>\n",
       "      <th>PopulationRate</th>\n",
       "      <th>GrowthRate</th>\n",
       "      <th>Growth</th>\n",
       "    </tr>\n",
       "  </thead>\n",
       "  <tbody>\n",
       "    <tr>\n",
       "      <th>0</th>\n",
       "      <td>1950</td>\n",
       "      <td>1491293</td>\n",
       "      <td>1</td>\n",
       "      <td>0.000000</td>\n",
       "      <td>0</td>\n",
       "    </tr>\n",
       "    <tr>\n",
       "      <th>1</th>\n",
       "      <td>1955</td>\n",
       "      <td>1705272</td>\n",
       "      <td>1</td>\n",
       "      <td>0.027179</td>\n",
       "      <td>213979</td>\n",
       "    </tr>\n",
       "    <tr>\n",
       "      <th>2</th>\n",
       "      <td>1960</td>\n",
       "      <td>1914797</td>\n",
       "      <td>1</td>\n",
       "      <td>0.023448</td>\n",
       "      <td>209525</td>\n",
       "    </tr>\n",
       "    <tr>\n",
       "      <th>3</th>\n",
       "      <td>1965</td>\n",
       "      <td>2394412</td>\n",
       "      <td>1</td>\n",
       "      <td>0.045720</td>\n",
       "      <td>479615</td>\n",
       "    </tr>\n",
       "    <tr>\n",
       "      <th>4</th>\n",
       "      <td>1970</td>\n",
       "      <td>3044204</td>\n",
       "      <td>2</td>\n",
       "      <td>0.049192</td>\n",
       "      <td>649792</td>\n",
       "    </tr>\n",
       "    <tr>\n",
       "      <th>5</th>\n",
       "      <td>1975</td>\n",
       "      <td>3593728</td>\n",
       "      <td>2</td>\n",
       "      <td>0.033747</td>\n",
       "      <td>549524</td>\n",
       "    </tr>\n",
       "    <tr>\n",
       "      <th>6</th>\n",
       "      <td>1980</td>\n",
       "      <td>4187412</td>\n",
       "      <td>3</td>\n",
       "      <td>0.031051</td>\n",
       "      <td>593684</td>\n",
       "    </tr>\n",
       "    <tr>\n",
       "      <th>7</th>\n",
       "      <td>1985</td>\n",
       "      <td>4735899</td>\n",
       "      <td>3</td>\n",
       "      <td>0.024923</td>\n",
       "      <td>548487</td>\n",
       "    </tr>\n",
       "    <tr>\n",
       "      <th>8</th>\n",
       "      <td>1990</td>\n",
       "      <td>5332057</td>\n",
       "      <td>4</td>\n",
       "      <td>0.023996</td>\n",
       "      <td>596158</td>\n",
       "    </tr>\n",
       "    <tr>\n",
       "      <th>9</th>\n",
       "      <td>1995</td>\n",
       "      <td>5934398</td>\n",
       "      <td>4</td>\n",
       "      <td>0.021636</td>\n",
       "      <td>602341</td>\n",
       "    </tr>\n",
       "    <tr>\n",
       "      <th>10</th>\n",
       "      <td>2000</td>\n",
       "      <td>6593279</td>\n",
       "      <td>5</td>\n",
       "      <td>0.021280</td>\n",
       "      <td>658881</td>\n",
       "    </tr>\n",
       "    <tr>\n",
       "      <th>11</th>\n",
       "      <td>2005</td>\n",
       "      <td>7476986</td>\n",
       "      <td>5</td>\n",
       "      <td>0.025475</td>\n",
       "      <td>883707</td>\n",
       "    </tr>\n",
       "    <tr>\n",
       "      <th>12</th>\n",
       "      <td>2010</td>\n",
       "      <td>8506193</td>\n",
       "      <td>6</td>\n",
       "      <td>0.026128</td>\n",
       "      <td>1029207</td>\n",
       "    </tr>\n",
       "    <tr>\n",
       "      <th>13</th>\n",
       "      <td>2015</td>\n",
       "      <td>9677072</td>\n",
       "      <td>7</td>\n",
       "      <td>0.026128</td>\n",
       "      <td>1170879</td>\n",
       "    </tr>\n",
       "    <tr>\n",
       "      <th>14</th>\n",
       "      <td>2019</td>\n",
       "      <td>10711243</td>\n",
       "      <td>8</td>\n",
       "      <td>0.025709</td>\n",
       "      <td>1034171</td>\n",
       "    </tr>\n",
       "    <tr>\n",
       "      <th>15</th>\n",
       "      <td>2020</td>\n",
       "      <td>10971108</td>\n",
       "      <td>8</td>\n",
       "      <td>0.024261</td>\n",
       "      <td>259865</td>\n",
       "    </tr>\n",
       "  </tbody>\n",
       "</table>\n",
       "</div>"
      ],
      "text/plain": [
       "    Year  Population  PopulationRate  GrowthRate   Growth\n",
       "0   1950     1491293               1    0.000000        0\n",
       "1   1955     1705272               1    0.027179   213979\n",
       "2   1960     1914797               1    0.023448   209525\n",
       "3   1965     2394412               1    0.045720   479615\n",
       "4   1970     3044204               2    0.049192   649792\n",
       "5   1975     3593728               2    0.033747   549524\n",
       "6   1980     4187412               3    0.031051   593684\n",
       "7   1985     4735899               3    0.024923   548487\n",
       "8   1990     5332057               4    0.023996   596158\n",
       "9   1995     5934398               4    0.021636   602341\n",
       "10  2000     6593279               5    0.021280   658881\n",
       "11  2005     7476986               5    0.025475   883707\n",
       "12  2010     8506193               6    0.026128  1029207\n",
       "13  2015     9677072               7    0.026128  1170879\n",
       "14  2019    10711243               8    0.025709  1034171\n",
       "15  2020    10971108               8    0.024261   259865"
      ]
     },
     "execution_count": 75,
     "metadata": {},
     "output_type": "execute_result"
    }
   ],
   "source": [
    "pop"
   ]
  },
  {
   "cell_type": "markdown",
   "id": "061b4af3",
   "metadata": {},
   "source": [
    "# Finding the relationship between Year and all fields"
   ]
  },
  {
   "cell_type": "code",
   "execution_count": 76,
   "id": "794b9554",
   "metadata": {},
   "outputs": [
    {
     "data": {
      "text/plain": [
       "<seaborn.axisgrid.FacetGrid at 0x22379d370d0>"
      ]
     },
     "execution_count": 76,
     "metadata": {},
     "output_type": "execute_result"
    },
    {
     "data": {
      "image/png": "[encoded data removed]",
      "text/plain": [
       "<Figure size 360x360 with 1 Axes>"
      ]
     },
     "metadata": {},
     "output_type": "display_data"
    }
   ],
   "source": [
    "#Year is from 1950-2020 \n",
    "#Population on yearly basis\n",
    "sns.relplot(x='Year',y='Population',data=pop)"
   ]
  },
  {
   "cell_type": "code",
   "execution_count": 6,
   "id": "d988cb93",
   "metadata": {},
   "outputs": [
    {
     "data": {
      "text/plain": [
       "<AxesSubplot:xlabel='Growth', ylabel='Population'>"
      ]
     },
     "execution_count": 6,
     "metadata": {},
     "output_type": "execute_result"
    },
    {
     "data": {
      "image/png": "[encoded data removed]",
      "text/plain": [
       "<Figure size 432x288 with 1 Axes>"
      ]
     },
     "metadata": {},
     "output_type": "display_data"
    }
   ],
   "source": [
    "#Relationship between population and Growth\n",
    "sns.pointplot(x='Growth',y='Population',data=pop)"
   ]
  },
  {
   "cell_type": "code",
   "execution_count": 77,
   "id": "1be02067",
   "metadata": {},
   "outputs": [
    {
     "data": {
      "text/plain": [
       "<seaborn.axisgrid.FacetGrid at 0x2237a56ed00>"
      ]
     },
     "execution_count": 77,
     "metadata": {},
     "output_type": "execute_result"
    },
    {
     "data": {
      "image/png": "[encoded data removed]",
      "text/plain": [
       "<Figure size 360x360 with 1 Axes>"
      ]
     },
     "metadata": {},
     "output_type": "display_data"
    }
   ],
   "source": [
    "#Growth is the difference between the population of two continous years.\n",
    "sns.relplot(x='Year',y='Growth',data=pop)"
   ]
  },
  {
   "cell_type": "code",
   "execution_count": 79,
   "id": "006665b6",
   "metadata": {},
   "outputs": [
    {
     "data": {
      "text/plain": [
       "<seaborn.axisgrid.FacetGrid at 0x223773f9970>"
      ]
     },
     "execution_count": 79,
     "metadata": {},
     "output_type": "execute_result"
    },
    {
     "data": {
      "image/png": "[encoded data removed]",
      "text/plain": [
       "<Figure size 360x360 with 1 Axes>"
      ]
     },
     "metadata": {},
     "output_type": "display_data"
    }
   ],
   "source": [
    " #PopulationRate is the overall population till 2020.\n",
    "sns.relplot(x='Year',y='PopulationRate',data=pop)"
   ]
  },
  {
   "cell_type": "code",
   "execution_count": 78,
   "id": "8b2ef343",
   "metadata": {},
   "outputs": [
    {
     "data": {
      "text/plain": [
       "<seaborn.axisgrid.FacetGrid at 0x223774a0340>"
      ]
     },
     "execution_count": 78,
     "metadata": {},
     "output_type": "execute_result"
    },
    {
     "data": {
      "image/png": "[encoded data removed]",
      "text/plain": [
       "<Figure size 360x360 with 1 Axes>"
      ]
     },
     "metadata": {},
     "output_type": "display_data"
    }
   ],
   "source": [
    "#GrowthRate is the overall Growth Percentage till 2020.\n",
    "sns.relplot(x='Year',y='GrowthRate',data=pop)"
   ]
  },
  {
   "cell_type": "markdown",
   "id": "7795a7a2",
   "metadata": {},
   "source": [
    "# Increase in Population and Growth rate."
   ]
  },
  {
   "cell_type": "code",
   "execution_count": 80,
   "id": "f6bbef75",
   "metadata": {},
   "outputs": [
    {
     "data": {
      "text/plain": [
       "<AxesSubplot:xlabel='Year', ylabel='PopulationRate'>"
      ]
     },
     "execution_count": 80,
     "metadata": {},
     "output_type": "execute_result"
    },
    {
     "data": {
      "image/png": "[encoded data removed]",
      "text/plain": [
       "<Figure size 432x288 with 1 Axes>"
      ]
     },
     "metadata": {},
     "output_type": "display_data"
    }
   ],
   "source": [
    "#increase in population rate on yearly basis\n",
    "sns.barplot(x='Year',y='PopulationRate',data=pop)"
   ]
  },
  {
   "cell_type": "code",
   "execution_count": 81,
   "id": "eecfa096",
   "metadata": {},
   "outputs": [
    {
     "data": {
      "text/plain": [
       "<AxesSubplot:xlabel='Year', ylabel='GrowthRate'>"
      ]
     },
     "execution_count": 81,
     "metadata": {},
     "output_type": "execute_result"
    },
    {
     "data": {
      "image/png": "[encoded data removed]",
      "text/plain": [
       "<Figure size 432x288 with 1 Axes>"
      ]
     },
     "metadata": {},
     "output_type": "display_data"
    }
   ],
   "source": [
    "#increase in GrowthRate on yearly basis\n",
    "#There is no constant increase in growth rate. \n",
    "#There is kind of ups and downs from 1955-1965.\n",
    "#Then there has been decrease in Growth from 1970-2002\n",
    "#Then the Growth rate remains the same for with slit ups and downs from 2005-2020.\n",
    "sns.barplot(x='Year',y='GrowthRate',data=pop)"
   ]
  },
  {
   "cell_type": "markdown",
   "id": "a2facabc",
   "metadata": {},
   "source": [
    "# Average Increase in Population and Growth."
   ]
  },
  {
   "cell_type": "code",
   "execution_count": 95,
   "id": "7027c677",
   "metadata": {},
   "outputs": [],
   "source": [
    "AveragePop=Total/16"
   ]
  },
  {
   "cell_type": "code",
   "execution_count": 97,
   "id": "a71b2c87",
   "metadata": {},
   "outputs": [
    {
     "data": {
      "text/plain": [
       "5516834.5625"
      ]
     },
     "execution_count": 97,
     "metadata": {},
     "output_type": "execute_result"
    }
   ],
   "source": [
    "#Average Increase in population \n",
    "AveragePop"
   ]
  },
  {
   "cell_type": "code",
   "execution_count": 101,
   "id": "88d21b98",
   "metadata": {},
   "outputs": [],
   "source": [
    "AveragePopRate=pop.PopulationRate.sum()/16"
   ]
  },
  {
   "cell_type": "code",
   "execution_count": 103,
   "id": "756c0c00",
   "metadata": {},
   "outputs": [
    {
     "data": {
      "text/plain": [
       "3.8125"
      ]
     },
     "execution_count": 103,
     "metadata": {},
     "output_type": "execute_result"
    }
   ],
   "source": [
    "#Average Increase in population rate.\n",
    "AveragePopRate"
   ]
  },
  {
   "cell_type": "code",
   "execution_count": 17,
   "id": "282fa255",
   "metadata": {},
   "outputs": [],
   "source": [
    "AvgGrowth=GTotal/16"
   ]
  },
  {
   "cell_type": "code",
   "execution_count": 18,
   "id": "f1c21075",
   "metadata": {},
   "outputs": [
    {
     "data": {
      "text/plain": [
       "867781.5"
      ]
     },
     "execution_count": 18,
     "metadata": {},
     "output_type": "execute_result"
    }
   ],
   "source": [
    "#Average Increase in Growth \n",
    "AvgGrowth"
   ]
  },
  {
   "cell_type": "code",
   "execution_count": 15,
   "id": "d533be9f",
   "metadata": {},
   "outputs": [],
   "source": [
    "AvgGrowthRate=pop.GrowthRate.sum()/16"
   ]
  },
  {
   "cell_type": "code",
   "execution_count": 16,
   "id": "b4751377",
   "metadata": {},
   "outputs": [
    {
     "data": {
      "text/plain": [
       "0.026867152099066358"
      ]
     },
     "execution_count": 16,
     "metadata": {},
     "output_type": "execute_result"
    }
   ],
   "source": [
    "#Average Increase in GrowthRate\n",
    "AvgGrowthRate"
   ]
  },
  {
   "cell_type": "code",
   "execution_count": 122,
   "id": "f416869e",
   "metadata": {
    "scrolled": true
   },
   "outputs": [
    {
     "data": {
      "text/plain": [
       "<AxesSubplot:xlabel='Year', ylabel='Population'>"
      ]
     },
     "execution_count": 122,
     "metadata": {},
     "output_type": "execute_result"
    },
    {
     "data": {
      "image/png": "[encoded data removed]",
      "text/plain": [
       "<Figure size 432x288 with 1 Axes>"
      ]
     },
     "metadata": {},
     "output_type": "display_data"
    }
   ],
   "source": [
    "##Average Increase in population is 55,16,834.57\n",
    "sns.boxplot(x='Year',y='Population',data=pop)"
   ]
  },
  {
   "cell_type": "code",
   "execution_count": 30,
   "id": "cde8598d",
   "metadata": {},
   "outputs": [
    {
     "data": {
      "text/plain": [
       "<AxesSubplot:xlabel='Year', ylabel='Growth'>"
      ]
     },
     "execution_count": 30,
     "metadata": {},
     "output_type": "execute_result"
    },
    {
     "data": {
      "image/png": "[encoded data removed]",
      "text/plain": [
       "<Figure size 432x288 with 1 Axes>"
      ]
     },
     "metadata": {},
     "output_type": "display_data"
    }
   ],
   "source": [
    "##Average Increase in Growth is 867781.5\n",
    "sns.boxplot(x='Year',y='Growth',data=pop)"
   ]
  },
  {
   "cell_type": "code",
   "execution_count": 29,
   "id": "ce773ca3",
   "metadata": {},
   "outputs": [
    {
     "data": {
      "text/plain": [
       "<seaborn.axisgrid.FacetGrid at 0x25cd1887d90>"
      ]
     },
     "execution_count": 29,
     "metadata": {},
     "output_type": "execute_result"
    },
    {
     "data": {
      "image/png": "[encoded data removed]",
      "text/plain": [
       "<Figure size 424.1x360 with 1 Axes>"
      ]
     },
     "metadata": {},
     "output_type": "display_data"
    }
   ],
   "source": [
    "#linear Regression\n",
    "sns.lmplot(x='GrowthRate',y='PopulationRate',hue='Year',data=pop)"
   ]
  },
  {
   "cell_type": "markdown",
   "id": "c5d896db",
   "metadata": {},
   "source": [
    "# Summary"
   ]
  },
  {
   "cell_type": "code",
   "execution_count": null,
   "id": "ecf6bcbe",
   "metadata": {},
   "outputs": [],
   "source": [
    "#Data has been cleaned and Pre processed.\n",
    "#The relationship between the fields are configured.\n",
    "#Relationship between Population and Growth is analysed\n",
    "#Increase in population is presented via bar plots.\n",
    "#Average Increase in population per year has been determined.\n",
    "#Linear Regression thus proves that the following years population might increase upto 0.02% per year."
   ]
  }
 ],
 "metadata": {
  "kernelspec": {
   "display_name": "Python 3",
   "language": "python",
   "name": "python3"
  },
  "language_info": {
   "codemirror_mode": {
    "name": "ipython",
    "version": 3
   },
   "file_extension": ".py",
   "mimetype": "text/x-python",
   "name": "python",
   "nbconvert_exporter": "python",
   "pygments_lexer": "ipython3",
   "version": "3.8.8"
  }
 },
 "nbformat": 4,
 "nbformat_minor": 5
}
